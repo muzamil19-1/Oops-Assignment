{
  "nbformat": 4,
  "nbformat_minor": 0,
  "metadata": {
    "colab": {
      "provenance": []
    },
    "kernelspec": {
      "name": "python3",
      "display_name": "Python 3"
    },
    "language_info": {
      "name": "python"
    }
  },
  "cells": [
    {
      "cell_type": "markdown",
      "source": [
        "**1.What is Object-Oriented Programming (OOP)?**\n",
        "\n",
        "Ans:-Object-Oriented Programming (OOP) is a programming paradigm that organizes software design around objects, rather than functions and logic. An object is an instance of a class, which is a blueprint that defines the attributes (data) and behaviors (methods/functions) that the object can have.\n",
        "\n",
        "**2.What is a class in OOP?**\n",
        "\n",
        "Ans:-In Object-Oriented Programming (OOP), a class is a blueprint or template for creating objects.\n",
        "\n",
        "It defines:\n",
        "\n",
        "Attributes (variables) – the data or properties the object will have.\n",
        "\n",
        "Methods (functions) – the actions or behaviors the object can perform.\n",
        "\n",
        "\n",
        "**3.What is an object in OOP?**\n",
        "\n",
        "Ans:-In Object-Oriented Programming (OOP), an object is a specific instance of a class. It represents a real-world entity with:\n",
        "\n",
        "Attributes (data or properties), and\n",
        "\n",
        "Methods (functions or behaviors).\n",
        "\n",
        "**4.What is the difference between abstraction and encapsulation?**\n",
        "\n",
        "Ans-Abstraction and Encapsulation are two fundamental concepts in Object-Oriented Programming (OOP). They are related but serve different purposes.\n",
        "\n",
        "🔹 Abstraction – Hiding the Complexity\n",
        "\n",
        "Definition: Abstraction is the process of hiding unnecessary details and showing only the essential features of an object.\n",
        "\n",
        "Goal: Focus on what an object does, not how it does it.\n",
        "\n",
        "Example: When you drive a car, you only use the steering wheel, pedals, etc. You don’t need to know how the engine works internally.\n",
        "\n",
        "In Code: Achieved using abstract classes or interfaces (in languages like Java or C++), or just by exposing only necessary methods in Python.\n",
        "\n",
        "\n",
        "class Animal:\n",
        "    def speak(self):\n",
        "        pass  # Abstract method (in Python, use ABC module for strict abstraction)\n",
        "\n",
        "\n",
        "🔹 Encapsulation – Protecting the Data\n",
        "\n",
        "Definition: Encapsulation is the practice of bundling data and methods that operate on the data into a single unit (class) and restricting access to the internal state.\n",
        "\n",
        "Goal: Protect the object’s data and ensure it is used properly.\n",
        "\n",
        "Example: You can’t directly change the fuel level of a car’s engine; you have to go through a controlled method (like refuel).\n",
        "\n",
        "In Code: Achieved using private/protected attributes and getter/setter methods.\n",
        "\n",
        "\n",
        "class BankAccount:\n",
        "    def __init__(self):\n",
        "        self.__balance = 0  # private attribute\n",
        "\n",
        "    def deposit(self, amount):\n",
        "        if amount > 0:\n",
        "            self.__balance += amount\n",
        "\n",
        "    def get_balance(self):\n",
        "        return self.__balance\n",
        "\n",
        "**5.What are dunder methods in Python?**\n",
        "\n",
        "Ans-Dunder methods (short for “double underscore” methods) in Python are special methods that start and end with double underscores, like __init__, __str__, __len__, etc.\n",
        "\n",
        "These methods allow you to define how your objects behave with built-in Python operations, such as printing, adding, comparing, and more.\n",
        "\n",
        "**6.Explain the concept of inheritance in OOP?**\n",
        "\n",
        "Ans:-Inheritance is a fundamental concept in Object-Oriented Programming (OOP) where a class (child/subclass) can inherit attributes and methods from another class (parent/superclass).\n",
        "\n",
        "It allows you to reuse existing code, promote code organization, and support polymorphism.\n",
        "\n",
        "**7.What is polymorphism in OOP?**\n",
        "\n",
        "Ans-Polymorphism means \"many forms\", and in Object-Oriented Programming (OOP), it allows objects of different classes to be treated as objects of a common superclass.\n",
        "\n",
        "It enables you to use the same method name or operator to perform different tasks based on the object that is calling it.\n",
        "\n",
        "**8.How is encapsulation achieved in Python?**\n",
        "\n",
        "Ans-Encapsulation in Python is the process of hiding internal object details (data and implementation) and restricting direct access to them. It’s one of the key principles of Object-Oriented Programming (OOP).\n",
        "\n",
        "In Python, encapsulation is achieved using:\n",
        "\n",
        "1.Classes – to bundle data and methods.\n",
        "\n",
        "2.Access Modifiers – to control visibility of attributes and methods:\n",
        "\n",
        "public (default): accessible from anywhere.\n",
        "\n",
        "_protected: meant for internal use (convention, not enforced).\n",
        "\n",
        "__private: name-mangled to prevent direct access from outside.\n",
        "\n",
        "**9.What is a constructor in Python?**\n",
        "\n",
        "Ans-What is a Constructor in Python?\n",
        "In Python, a constructor is a special method used to initialize a new object when it is created from a class.\n",
        "\n",
        "The constructor method is always named:\n",
        "\n",
        "\n",
        "__init__()\n",
        "\n",
        "It automatically runs when an object is instantiated, and it's typically used to set up initial values for the object’s attributes.\n",
        "\n",
        "✅ Syntax:\n",
        "\n",
        "class ClassName:\n",
        "\n",
        "    def __init__(self, parameters):\n",
        "        # initialization code\n",
        "\n",
        "The first parameter is always self, which refers to the current object.\n",
        "\n",
        "You can pass additional parameters to set initial attribute values.\n",
        "\n",
        "**10.What are class and static methods in Python?**\n",
        "\n",
        "Ans-In Python, both class methods and static methods are types of methods you can define inside a class, but they behave differently from instance methods.\n",
        "\n",
        "1. Class Method\n",
        "\n",
        "A class method is bound to the class, not the instance.\n",
        "It can access or modify class state that applies across all instances.\n",
        "\n",
        "✅ Key Features:\n",
        "\n",
        "Defined with the @classmethod decorator.\n",
        "\n",
        "First argument is always cls (refers to the class, not the object).\n",
        "\n",
        "🔹 Example:\n",
        "\n",
        "class Dog:\n",
        "    species = \"Canine\"  # Class attribute\n",
        "\n",
        "    def __init__(self, name):\n",
        "        self.name = name\n",
        "\n",
        "    @classmethod\n",
        "    def change_species(cls, new_species):\n",
        "        cls.species = new_species\n",
        "\n",
        "Dog.change_species(\"Wolf\")\n",
        "print(Dog.species)  # Output: Wolf\n",
        "\n",
        "2. Static Method\n",
        "\n",
        "A static method is not bound to the instance or the class.\n",
        "\n",
        "It behaves like a regular function but lives in the class’s namespace for logical grouping.\n",
        "\n",
        "✅ Key Features:\n",
        "\n",
        "Defined with the @staticmethod decorator.\n",
        "\n",
        "Takes no self or cls parameter.\n",
        "\n",
        "Used when some utility function is related to the class but doesn’t need class or instance data.\n",
        "\n",
        "🔹 Example:\n",
        "\n",
        "class Math:\n",
        "    @staticmethod\n",
        "    def add(x, y):\n",
        "        return x + y\n",
        "\n",
        "print(Math.add(5, 3))  # Output: 8\n",
        "\n",
        "**11.What is method overloading in Python?**\n",
        "\n",
        "Ans-Method overloading means having multiple methods in the same class with the same name but different parameters (different number or types of arguments).\n",
        "\n",
        "It lets you call the same method name with different kinds of inputs, and the method behaves accordingly.\n",
        "\n",
        "**12.What is method overriding in OOP?**\n",
        "\n",
        "Ans-Method overriding is a feature in Object-Oriented Programming where a child class provides its own implementation of a method that is already defined in its parent class.\n",
        "\n",
        "It allows the child class to modify or extend the behavior of that method.\n",
        "\n",
        "**13.What is a property decorator in Python?**\n",
        "\n",
        "Ans-The @property decorator allows you to define methods in a class that behave like attributes (i.e., accessed without parentheses). It’s a way to use getter, setter, and deleter methods with simple attribute access syntax.\n",
        "\n",
        "✅ Why use @property?\n",
        "\n",
        "To control access to instance attributes.\n",
        "\n",
        "To add logic when getting, setting, or deleting an attribute.\n",
        "\n",
        "To keep attribute access simple while hiding complexity.\n",
        "\n",
        "**14.Why is polymorphism important in OOP?**\n",
        "\n",
        "Ans-🔹 Why is Polymorphism Important in OOP?\n",
        "\n",
        "Code Flexibility and Extensibility\n",
        "\n",
        "Polymorphism allows you to write generic code that works with objects of different classes, as long as they follow the same interface (have the same methods). This means you can extend your system with new classes without changing existing code.\n",
        "\n",
        "Simplifies Code Maintenance\n",
        "\n",
        "By relying on polymorphic behavior, you avoid lots of if-else or switch statements checking object types. Instead, you simply call the method, and the correct behavior happens automatically.\n",
        "\n",
        "Supports Runtime Behavior Changes\n",
        "\n",
        "Through method overriding, polymorphism enables objects to behave differently even when accessed through a common reference, enabling dynamic behavior at runtime.\n",
        "\n",
        "Encourages Code Reuse\n",
        "\n",
        "You can define generic functions or classes that operate on the parent type but work seamlessly with any subclass, reducing duplication.\n",
        "\n",
        "**15.What is an abstract class in Python?**\n",
        "\n",
        "Ans-An abstract class is a class that cannot be instantiated directly and is meant to be inherited by other classes. It often includes one or more abstract methods that must be implemented by subclasses.\n",
        "\n",
        "Abstract classes provide a blueprint for other classes, enforcing a certain structure and behavior.\n",
        "\n",
        "✅ Why use Abstract Classes?\n",
        "\n",
        "To define a common interface for a group of related classes.\n",
        "\n",
        "To force subclasses to implement specific methods.\n",
        "\n",
        "To enable polymorphism with a shared base.\n",
        "\n",
        "**16.What are the advantages of OOP?**\n",
        "\n",
        "Ans-🔹 Advantages of OOP\n",
        "\n",
        "Modularity\n",
        "\n",
        "Code is organized into classes and objects, making it easier to manage and understand.\n",
        "\n",
        "Each class handles a specific part of the program, so you can work on one part without affecting others.\n",
        "\n",
        "Reusability\n",
        "\n",
        "Through inheritance, classes can reuse code from other classes.\n",
        "\n",
        "This reduces duplication and speeds up development.\n",
        "\n",
        "Encapsulation\n",
        "\n",
        "Internal object details are hidden from the outside.\n",
        "\n",
        "Only necessary parts are exposed via methods, improving security and data integrity.\n",
        "\n",
        "Flexibility through Polymorphism\n",
        "\n",
        "Objects of different classes can be treated uniformly based on shared methods.\n",
        "\n",
        "Enables writing generic, extensible code.\n",
        "\n",
        "Maintainability\n",
        "\n",
        "Well-structured classes and objects make it easier to update and maintain code.\n",
        "\n",
        "Bugs are localized and easier to fix.\n",
        "\n",
        "Abstraction\n",
        "\n",
        "Focus on what an object does, not how it does it.\n",
        "\n",
        "Simplifies complex systems by hiding details.\n",
        "\n",
        "Improved Productivity\n",
        "\n",
        "Easier to design, implement, and debug complex programs.\n",
        "\n",
        "Code reuse and modularity lead to faster development.\n",
        "\n",
        "**17.What is the difference between a class variable and an instance variable?**\n",
        "\n",
        "Ans-Class Variable\n",
        "\n",
        "A class variable is shared by all instances of a class.\n",
        "\n",
        "It is defined inside the class but outside any method.\n",
        "\n",
        "All objects of the class access the same class variable.\n",
        "\n",
        "Changing the class variable affects all instances.\n",
        "\n",
        "Used to store data that should be common to every instance.\n",
        "\n",
        "Instance Variable\n",
        "\n",
        "An instance variable is unique to each instance of the class.\n",
        "\n",
        "It is usually defined inside the __init__() method using self.\n",
        "\n",
        "Each object has its own copy of the instance variable.\n",
        "\n",
        "Changing an instance variable affects only that particular object.\n",
        "\n",
        "Used to store data specific to each object.\n",
        "\n",
        "**18.What is multiple inheritance in Python?**\n",
        "\n",
        "Ans-\n",
        "Multiple inheritance means a class can inherit from more than one parent class at the same time.\n",
        "\n",
        "✅ Key Points:\n",
        "\n",
        "A child class gets attributes and methods from multiple parent classes.\n",
        "\n",
        "It helps combine features from different classes into one.\n",
        "\n",
        "Python supports multiple inheritance directly.\n",
        "\n",
        "**19.Explain the purpose of ‘’__str__’ and ‘__repr__’ ‘ methods in Python?**\n",
        "\n",
        "Ans-__str__ Method\n",
        "\n",
        "Purpose: Provides a readable, user-friendly string representation of an object.\n",
        "\n",
        "Used when you call print() or str() on the object.\n",
        "\n",
        "Should be informal and easy to understand.\n",
        "\n",
        "Meant for end users.\n",
        "\n",
        "Example:\n",
        "\n",
        "\n",
        "class Person:\n",
        "    def __init__(self, name, age):\n",
        "        self.name = name\n",
        "        self.age = age\n",
        "    \n",
        "    def __str__(self):\n",
        "        return f\"{self.name}, aged {self.age}\"\n",
        "\n",
        "p = Person(\"Alice\", 30)\n",
        "print(p)  # Output: Alice, aged 30\n",
        "\n",
        "__repr__ Method\n",
        "\n",
        "Purpose: Provides an official string representation of the object.\n",
        "\n",
        "Used by the repr() function and in interactive sessions.\n",
        "\n",
        "Should be unambiguous and, if possible, valid Python code to recreate the object.\n",
        "\n",
        "Meant for developers and debugging.\n",
        "\n",
        "Example:\n",
        "\n",
        "class Person:\n",
        "    def __init__(self, name, age):\n",
        "        self.name = name\n",
        "        self.age = age\n",
        "    \n",
        "    def __repr__(self):\n",
        "        return f\"Person('{self.name}', {self.age})\"\n",
        "\n",
        "p = Person(\"Alice\", 30)\n",
        "print(repr(p))  # Output: Person('Alice', 30)\n",
        "\n",
        "**20.What is the significance of the ‘super()’ function in Python?**\n",
        "\n",
        "Ans-Purpose of super()\n",
        "\n",
        "super() allows you to call a method from a parent (or superclass) inside a subclass.\n",
        "\n",
        "It’s mainly used to extend or customize behavior from the parent class without completely rewriting it.\n",
        "\n",
        "Helps avoid explicitly naming the parent class, which is useful for maintainability and multiple inheritance.\n",
        "\n",
        "Why is super() important?\n",
        "\n",
        "Enables code reuse by invoking parent class methods.\n",
        "\n",
        "Supports multiple inheritance by following the method resolution order (MRO).\n",
        "\n",
        "Simplifies calling parent class constructors (__init__) or other overridden methods.\n",
        "\n",
        "**21.What is the significance of the __del__ method in Python?**\n",
        "\n",
        "Ans:-Purpose of __del__\n",
        "\n",
        "The __del__ method is a destructor in Python.\n",
        "\n",
        "It is called when an object is about to be destroyed (i.e., when its reference count drops to zero and the garbage collector cleans it up).\n",
        "\n",
        "Used to perform cleanup actions, like releasing external resources (files, network connections, etc.).\n",
        "\n",
        "Key points:\n",
        "\n",
        "It allows you to define custom behavior just before the object is removed from memory.\n",
        "\n",
        "However, it’s not guaranteed to be called immediately when an object goes out of scope (depends on the garbage collector).\n",
        "\n",
        "Use with care — relying heavily on __del__ is generally discouraged; context managers (with statements) are preferred for resource management.\n",
        "\n",
        "**22.What is the difference between @staticmethod and @classmethod in Python?**\n",
        "\n",
        "Ans:-🔹 @staticmethod\n",
        "\n",
        "A static method does not receive any implicit first argument (self or cls).\n",
        "\n",
        "It behaves like a regular function inside a class namespace.\n",
        "\n",
        "Cannot access or modify instance or class state.\n",
        "\n",
        "Used for utility functions related to the class but not dependent on class or instance data.\n",
        "\n",
        "Example:\n",
        "\n",
        "class Math:\n",
        "    @staticmethod\n",
        "    def add(x, y):\n",
        "        return x + y\n",
        "\n",
        "print(Math.add(5, 3))  # Output: 8\n",
        "\n",
        "\n",
        "🔹 @classmethod\n",
        "\n",
        "A class method receives the class (cls) as the first argument instead of the instance.\n",
        "\n",
        "Can access or modify class state that applies across all instances.\n",
        "\n",
        "Often used as alternative constructors or to affect class-level data.\n",
        "\n",
        "Example:\n",
        "\n",
        "class Person:\n",
        "    species = \"Human\"\n",
        "\n",
        "    @classmethod\n",
        "    def change_species(cls, new_species):\n",
        "        cls.species = new_species\n",
        "\n",
        "Person.change_species(\"Homo sapiens\")\n",
        "print(Person.species)  # Output: Homo sapiens\n",
        "\n",
        "**23.How does polymorphism work in Python with inheritance?**\n",
        "\n",
        "Ans-Polymorphism means \"many forms\" — it allows objects of different classes related by inheritance to be treated as instances of a common parent class, but each class can have its own implementation of the same method.\n",
        "\n",
        "How it works:\n",
        "\n",
        "Base (Parent) Class defines a method — for example, speak().\n",
        "\n",
        "Derived (Child) Classes override that method with their own version.\n",
        "\n",
        "When you call the method on a base class reference pointing to a child object, the child’s method runs. This is called method overriding and is the core of polymorphism.\n",
        "\n",
        "You can write generic code that works on the parent class but behaves differently depending on the actual subclass object passed.\n",
        "\n",
        "\n",
        "**24.What is method chaining in Python OOP?**\n",
        "\n",
        "Ans-Method chaining is a programming technique where you call multiple methods on the same object in a single line, one after another.\n",
        "\n",
        "How it works:\n",
        "\n",
        "Each method returns the object itself (self), so you can immediately call another method on it.\n",
        "\n",
        "This leads to more concise and readable code, especially when performing a series of operations on the same object.\n",
        "\n",
        "**25.What is the purpose of the __call__ method in Python?**\n",
        "\n",
        "Ans-Purpose:\n",
        "\n",
        "The __call__ method allows an instance of a class to be called like a function.\n",
        "\n",
        "When you use parentheses () after an object, Python invokes the object's __call__ method.\n",
        "\n",
        "It makes objects behave like functions, enabling more flexible and expressive code.\n",
        "\n",
        "How it works:\n",
        "\n",
        "class Adder:\n",
        "    def __init__(self, n):\n",
        "        self.n = n\n",
        "    \n",
        "    def __call__(self, x):\n",
        "        return self.n + x\n",
        "\n",
        "add_five = Adder(5)\n",
        "print(add_five(10))  # Output: 15\n",
        "Here, add_five(10) calls the __call__ method on the add_five object.\n",
        "\n",
        "Why use __call__?\n",
        "\n",
        "To create function-like objects (also called functors).\n",
        "\n",
        "Useful in cases where you want to maintain state (attributes) but also want to call the object like a function.\n",
        "\n",
        "Often used in decorators, callbacks, or situations where objects need to be invoked repeatedly.\n",
        "\n",
        "\n",
        "\n",
        "\n",
        "\n",
        "\n",
        "\n",
        "\n",
        "\n",
        "\n",
        "\n",
        "\n",
        "\n",
        "\n",
        "\n",
        "\n",
        "\n"
      ],
      "metadata": {
        "id": "g-50ad3i_rqQ"
      }
    },
    {
      "cell_type": "markdown",
      "source": [
        "# practical questios\n"
      ],
      "metadata": {
        "id": "b-s1VbbBI_TO"
      }
    },
    {
      "cell_type": "markdown",
      "source": [
        "1.Create a parent class Animal with a method speak() that prints a generic message. Create a child class Dog that overrides the speak() method to print \"Bark!\"."
      ],
      "metadata": {
        "id": "NB5TaiKyJJyL"
      }
    },
    {
      "cell_type": "code",
      "source": [
        "class Animal:\n",
        "    def speak(self):\n",
        "        print(\"This animal makes a sound.\")\n",
        "\n",
        "class Dog(Animal):\n",
        "    def speak(self):\n",
        "        print(\"Bark!\")"
      ],
      "metadata": {
        "id": "u9hHpMIcI4zV"
      },
      "execution_count": 2,
      "outputs": []
    },
    {
      "cell_type": "code",
      "source": [
        "animal = Animal()\n",
        "animal.speak()\n",
        "dog = Dog()\n",
        "dog.speak()\n"
      ],
      "metadata": {
        "colab": {
          "base_uri": "https://localhost:8080/"
        },
        "id": "ggGyByP5JwaV",
        "outputId": "a02a95eb-1ac7-4986-a51b-1a373f582cb3"
      },
      "execution_count": 3,
      "outputs": [
        {
          "output_type": "stream",
          "name": "stdout",
          "text": [
            "This animal makes a sound.\n",
            "Bark!\n"
          ]
        }
      ]
    },
    {
      "cell_type": "markdown",
      "source": [
        "2. Write a program to create an abstract class Shape with a method area(). Derive classes Circle and Rectangle from it and implement the area() method in both."
      ],
      "metadata": {
        "id": "MaVkuJoTJ73W"
      }
    },
    {
      "cell_type": "code",
      "source": [
        "from abc import ABC, abstractmethod\n",
        "import math\n",
        "\n",
        "class Shape(ABC):\n",
        "    @abstractmethod\n",
        "    def area(self):\n",
        "        pass\n",
        "\n",
        "class Circle(Shape):\n",
        "    def __init__(self, radius):\n",
        "        self.radius = radius\n",
        "\n",
        "    def area(self):\n",
        "        return math.pi * self.radius ** 2\n",
        "\n",
        "class Rectangle(Shape):\n",
        "    def __init__(self, width, height):\n",
        "        self.width = width\n",
        "        self.height = height\n",
        "\n",
        "    def area(self):\n",
        "        return self.width * self.height\n"
      ],
      "metadata": {
        "id": "g9Y57RF2J2lj"
      },
      "execution_count": 4,
      "outputs": []
    },
    {
      "cell_type": "code",
      "source": [
        "c = Circle(5)\n",
        "print(\"Circle area:\", c.area())\n",
        "\n",
        "r = Rectangle(4, 7)\n",
        "print(\"Rectangle area:\", r.area())\n"
      ],
      "metadata": {
        "colab": {
          "base_uri": "https://localhost:8080/"
        },
        "id": "dnVursyeKILD",
        "outputId": "6a4e9bf8-a19c-4e8a-8393-0751aa558864"
      },
      "execution_count": 5,
      "outputs": [
        {
          "output_type": "stream",
          "name": "stdout",
          "text": [
            "Circle area: 78.53981633974483\n",
            "Rectangle area: 28\n"
          ]
        }
      ]
    },
    {
      "cell_type": "markdown",
      "source": [
        "3.Implement a multi-level inheritance scenario where a class Vehicle has an attribute type. Derive a class Car and further derive a class ElectricCar that adds a battery attribute."
      ],
      "metadata": {
        "id": "lbT8xm2jKT8M"
      }
    },
    {
      "cell_type": "code",
      "source": [
        "class Vehicle:\n",
        "    def __init__(self, vehicle_type):\n",
        "        self.type = vehicle_type\n",
        "\n",
        "class Car(Vehicle):\n",
        "    def __init__(self, vehicle_type, brand):\n",
        "        super().__init__(vehicle_type)\n",
        "        self.brand = brand\n",
        "\n",
        "class ElectricCar(Car):\n",
        "    def __init__(self, vehicle_type, brand, battery_capacity):\n",
        "        super().__init__(vehicle_type, brand)\n",
        "        self.battery = battery_capacity\n"
      ],
      "metadata": {
        "id": "GYrugEB4KMRT"
      },
      "execution_count": 6,
      "outputs": []
    },
    {
      "cell_type": "code",
      "source": [
        "ecar = ElectricCar(\"Four-wheeler\", \"Tesla\", \"100 kWh\")\n",
        "print(f\"Type: {ecar.type}\")\n",
        "print(f\"Brand: {ecar.brand}\")\n",
        "print(f\"Battery: {ecar.battery}\")"
      ],
      "metadata": {
        "colab": {
          "base_uri": "https://localhost:8080/"
        },
        "id": "znapKUvmKdWM",
        "outputId": "8ab6fef3-87a5-4d12-c7de-a3f151186a05"
      },
      "execution_count": 7,
      "outputs": [
        {
          "output_type": "stream",
          "name": "stdout",
          "text": [
            "Type: Four-wheeler\n",
            "Brand: Tesla\n",
            "Battery: 100 kWh\n"
          ]
        }
      ]
    },
    {
      "cell_type": "markdown",
      "source": [
        "4. Demonstrate polymorphism by creating a base class Bird with a method fly(). Create two derived classes Sparrow and Penguin that override the fly() method."
      ],
      "metadata": {
        "id": "hCLl4NTTKoR6"
      }
    },
    {
      "cell_type": "code",
      "source": [
        "class Bird:\n",
        "    def fly(self):\n",
        "        print(\"Some birds can fly.\")\n",
        "\n",
        "class Sparrow(Bird):\n",
        "    def fly(self):\n",
        "        print(\"Sparrow is flying.\")\n",
        "\n",
        "class Penguin(Bird):\n",
        "    def fly(self):\n",
        "        print(\"Penguins can't fly, but they can swim.\")\n"
      ],
      "metadata": {
        "id": "F-ZoOnTnKfip"
      },
      "execution_count": 8,
      "outputs": []
    },
    {
      "cell_type": "code",
      "source": [
        "def let_bird_fly(bird):\n",
        "    bird.fly()\n",
        "\n",
        "sparrow = Sparrow()\n",
        "penguin = Penguin()\n",
        "\n",
        "let_bird_fly(sparrow)\n",
        "let_bird_fly(penguin)"
      ],
      "metadata": {
        "colab": {
          "base_uri": "https://localhost:8080/"
        },
        "id": "CvN0KrRMKwae",
        "outputId": "b9811f60-c929-4bb6-be96-817b54887cee"
      },
      "execution_count": 9,
      "outputs": [
        {
          "output_type": "stream",
          "name": "stdout",
          "text": [
            "Sparrow is flying.\n",
            "Penguins can't fly, but they can swim.\n"
          ]
        }
      ]
    },
    {
      "cell_type": "markdown",
      "source": [
        "5.Write a program to demonstrate encapsulation by creating a class BankAccount with private attributes balance and methods to deposit, withdraw, and check balance."
      ],
      "metadata": {
        "id": "YlIXipEHK25e"
      }
    },
    {
      "cell_type": "code",
      "source": [
        "class BankAccount:\n",
        "    def __init__(self, initial_balance=0):\n",
        "        self.__balance = initial_balance  # Private attribute\n",
        "\n",
        "    def deposit(self, amount):\n",
        "        if amount > 0:\n",
        "            self.__balance += amount\n",
        "            print(f\"Deposited: ${amount}\")\n",
        "        else:\n",
        "            print(\"Deposit amount must be positive.\")\n",
        "\n",
        "    def withdraw(self, amount):\n",
        "        if amount > self.__balance:\n",
        "            print(\"Insufficient funds.\")\n",
        "        elif amount <= 0:\n",
        "            print(\"Withdrawal amount must be positive.\")\n",
        "        else:\n",
        "            self.__balance -= amount\n",
        "            print(f\"Withdrawn: ${amount}\")\n",
        "\n",
        "    def check_balance(self):\n",
        "        print(f\"Current balance: ${self.__balance}\")\n"
      ],
      "metadata": {
        "id": "fe1jyLPJKyGG"
      },
      "execution_count": 10,
      "outputs": []
    },
    {
      "cell_type": "code",
      "source": [
        "account = BankAccount(100)\n",
        "account.check_balance()\n",
        "account.deposit(50)\n",
        "account.check_balance()\n",
        "account.withdraw(70)\n",
        "account.check_balance()\n",
        "\n",
        "account.withdraw(200)\n"
      ],
      "metadata": {
        "colab": {
          "base_uri": "https://localhost:8080/"
        },
        "id": "1-MLXgq8LCCa",
        "outputId": "ae1d47f4-eb52-4660-9441-3ec0f76f9a24"
      },
      "execution_count": 11,
      "outputs": [
        {
          "output_type": "stream",
          "name": "stdout",
          "text": [
            "Current balance: $100\n",
            "Deposited: $50\n",
            "Current balance: $150\n",
            "Withdrawn: $70\n",
            "Current balance: $80\n",
            "Insufficient funds.\n"
          ]
        }
      ]
    },
    {
      "cell_type": "markdown",
      "source": [
        "6. Demonstrate runtime polymorphism using a method play() in a base class Instrument. Derive classes Guitar and Piano that implement their own version of play()."
      ],
      "metadata": {
        "id": "BwpVUoisLNq4"
      }
    },
    {
      "cell_type": "code",
      "source": [
        "class Instrument:\n",
        "    def play(self):\n",
        "        print(\"Playing some instrument\")\n",
        "\n",
        "class Guitar(Instrument):\n",
        "    def play(self):\n",
        "        print(\"Playing the guitar\")\n",
        "\n",
        "class Piano(Instrument):\n",
        "    def play(self):\n",
        "        print(\"Playing the piano\")\n"
      ],
      "metadata": {
        "id": "mQPFhBX1LDR1"
      },
      "execution_count": 12,
      "outputs": []
    },
    {
      "cell_type": "code",
      "source": [
        "def perform(instrument):\n",
        "    instrument.play()  # Calls the appropriate play() method at runtime\n",
        "\n",
        "g = Guitar()\n",
        "p = Piano()\n",
        "\n",
        "perform(g)\n",
        "perform(p)\n",
        "\n",
        "\n"
      ],
      "metadata": {
        "colab": {
          "base_uri": "https://localhost:8080/"
        },
        "id": "TYN8Z57tLWFP",
        "outputId": "8ded56b1-a73e-4220-e241-ceed2a2d72ba"
      },
      "execution_count": 14,
      "outputs": [
        {
          "output_type": "stream",
          "name": "stdout",
          "text": [
            "Playing the guitar\n",
            "Playing the piano\n"
          ]
        }
      ]
    },
    {
      "cell_type": "markdown",
      "source": [
        "7.Create a class MathOperations with a class method add_numbers() to add two numbers and a static method subtract_numbers() to subtract two numbers."
      ],
      "metadata": {
        "id": "XJ1inxMxLnDl"
      }
    },
    {
      "cell_type": "code",
      "source": [
        "class MathOperations:\n",
        "    @classmethod\n",
        "    def add_numbers(cls, a, b):\n",
        "        return a + b\n",
        "\n",
        "    @staticmethod\n",
        "    def subtract_numbers(a, b):\n",
        "        return a - b\n"
      ],
      "metadata": {
        "id": "YRcor0YKLXuq"
      },
      "execution_count": 15,
      "outputs": []
    },
    {
      "cell_type": "code",
      "source": [
        "print(MathOperations.add_numbers(10, 5))\n",
        "print(MathOperations.subtract_numbers(10, 5))"
      ],
      "metadata": {
        "colab": {
          "base_uri": "https://localhost:8080/"
        },
        "id": "si6jZktHLtxU",
        "outputId": "62ea07ae-749d-4b53-aba1-80f0b8181b6f"
      },
      "execution_count": 16,
      "outputs": [
        {
          "output_type": "stream",
          "name": "stdout",
          "text": [
            "15\n",
            "5\n"
          ]
        }
      ]
    },
    {
      "cell_type": "markdown",
      "source": [
        "8. Implement a class Person with a class method to count the total number of persons created."
      ],
      "metadata": {
        "id": "AedQin0vLxEN"
      }
    },
    {
      "cell_type": "code",
      "source": [
        "class Person:\n",
        "    _count = 0  # Class variable to track number of persons\n",
        "\n",
        "    def __init__(self, name):\n",
        "        self.name = name\n",
        "        Person._count += 1  # Increment count when a new instance is created\n",
        "\n",
        "    @classmethod\n",
        "    def total_persons(cls):\n",
        "        return cls._count\n"
      ],
      "metadata": {
        "id": "3sq7Os8dLvSQ"
      },
      "execution_count": 17,
      "outputs": []
    },
    {
      "cell_type": "code",
      "source": [
        "p1 = Person(\"Alice\")\n",
        "p2 = Person(\"Bob\")\n",
        "p3 = Person(\"Charlie\")\n",
        "\n",
        "print(Person.total_persons())"
      ],
      "metadata": {
        "colab": {
          "base_uri": "https://localhost:8080/"
        },
        "id": "Kd5t8bCRL5X9",
        "outputId": "756d8b22-dcae-4052-baf6-1625e838b9db"
      },
      "execution_count": 18,
      "outputs": [
        {
          "output_type": "stream",
          "name": "stdout",
          "text": [
            "3\n"
          ]
        }
      ]
    },
    {
      "cell_type": "markdown",
      "source": [
        "9. Write a class Fraction with attributes numerator and denominator. Override the str method to display the fraction as \"numerator/denominator\"."
      ],
      "metadata": {
        "id": "0fGXDv9BL89J"
      }
    },
    {
      "cell_type": "code",
      "source": [
        "class Fraction:\n",
        "    def __init__(self, numerator, denominator):\n",
        "        self.numerator = numerator\n",
        "        self.denominator = denominator\n",
        "\n",
        "    def __str__(self):\n",
        "        return f\"{self.numerator}/{self.denominator}\"\n"
      ],
      "metadata": {
        "id": "OUJAO2e9L7So"
      },
      "execution_count": 19,
      "outputs": []
    },
    {
      "cell_type": "code",
      "source": [
        "f = Fraction(3, 4)\n",
        "print(f)\n"
      ],
      "metadata": {
        "colab": {
          "base_uri": "https://localhost:8080/"
        },
        "id": "erBfnbL3MD_g",
        "outputId": "c44ff49b-c39c-41c5-f353-b2e8317be16f"
      },
      "execution_count": 20,
      "outputs": [
        {
          "output_type": "stream",
          "name": "stdout",
          "text": [
            "3/4\n"
          ]
        }
      ]
    },
    {
      "cell_type": "markdown",
      "source": [
        "10. Demonstrate operator overloading by creating a class Vector and overriding the add method to add two vectors."
      ],
      "metadata": {
        "id": "Xy_oh_DXMHL3"
      }
    },
    {
      "cell_type": "code",
      "source": [
        "class Vector:\n",
        "    def __init__(self, x, y):\n",
        "        self.x = x\n",
        "        self.y = y\n",
        "\n",
        "    def __add__(self, other):\n",
        "        if isinstance(other, Vector):\n",
        "            return Vector(self.x + other.x, self.y + other.y)\n",
        "        return NotImplemented\n",
        "\n",
        "    def __str__(self):\n",
        "        return f\"Vector({self.x}, {self.y})\"\n"
      ],
      "metadata": {
        "id": "9JdBBYBSMGL9"
      },
      "execution_count": 21,
      "outputs": []
    },
    {
      "cell_type": "code",
      "source": [
        "v1 = Vector(2, 3)\n",
        "v2 = Vector(4, 5)\n",
        "\n",
        "v3 = v1 + v2\n",
        "print(v3)\n"
      ],
      "metadata": {
        "colab": {
          "base_uri": "https://localhost:8080/"
        },
        "id": "9Sxa1Zm0MOHU",
        "outputId": "3b6d9df4-dca2-41c0-c03d-e856d63ff7a3"
      },
      "execution_count": 22,
      "outputs": [
        {
          "output_type": "stream",
          "name": "stdout",
          "text": [
            "Vector(6, 8)\n"
          ]
        }
      ]
    },
    {
      "cell_type": "markdown",
      "source": [
        "11. Create a class Person with attributes name and age. Add a method greet() that prints \"Hello, my name is {name} and I am {age} years old.\""
      ],
      "metadata": {
        "id": "9IEGReWpMSK-"
      }
    },
    {
      "cell_type": "code",
      "source": [
        "class Person:\n",
        "    def __init__(self, name, age):\n",
        "        self.name = name\n",
        "        self.age = age\n",
        "\n",
        "    def greet(self):\n",
        "        print(f\"Hello, my name is {self.name} and I am {self.age} years old.\")\n"
      ],
      "metadata": {
        "id": "hBJckTajMQeS"
      },
      "execution_count": 23,
      "outputs": []
    },
    {
      "cell_type": "code",
      "source": [
        "person = Person(\"Alice\", 30)\n",
        "person.greet()\n",
        "\n"
      ],
      "metadata": {
        "colab": {
          "base_uri": "https://localhost:8080/"
        },
        "id": "xMm4LqCZMaG6",
        "outputId": "588b12d9-9e3c-43bf-cb84-a1c6f672bdce"
      },
      "execution_count": 24,
      "outputs": [
        {
          "output_type": "stream",
          "name": "stdout",
          "text": [
            "Hello, my name is Alice and I am 30 years old.\n"
          ]
        }
      ]
    },
    {
      "cell_type": "markdown",
      "source": [
        "12. Implement a class Student with attributes name and grades. Create a method average_grade() to compute the average of the grades."
      ],
      "metadata": {
        "id": "MuiY0zpkMeWq"
      }
    },
    {
      "cell_type": "code",
      "source": [
        "class Student:\n",
        "    def __init__(self, name, grades):\n",
        "        self.name = name\n",
        "        self.grades = grades  # grades should be a list of numbers\n",
        "\n",
        "    def average_grade(self):\n",
        "        if not self.grades:\n",
        "            return 0  # Avoid division by zero if grades list is empty\n",
        "        return sum(self.grades) / len(self.grades)\n"
      ],
      "metadata": {
        "id": "jb66-tg7MlW2"
      },
      "execution_count": 25,
      "outputs": []
    },
    {
      "cell_type": "code",
      "source": [
        "student = Student(\"John\", [85, 90, 78, 92])\n",
        "print(f\"{student.name}'s average grade is: {student.average_grade()}\")\n",
        "\n"
      ],
      "metadata": {
        "colab": {
          "base_uri": "https://localhost:8080/"
        },
        "id": "HEw_PYlsMpSW",
        "outputId": "21590ef6-a2d4-4181-a19d-07d7c2770153"
      },
      "execution_count": 27,
      "outputs": [
        {
          "output_type": "stream",
          "name": "stdout",
          "text": [
            "John's average grade is: 86.25\n"
          ]
        }
      ]
    },
    {
      "cell_type": "markdown",
      "source": [
        "13. Create a class Rectangle with methods set_dimensions() to set the dimensions and area() to calculate the area."
      ],
      "metadata": {
        "id": "gRrBXAEzNCir"
      }
    },
    {
      "cell_type": "code",
      "source": [
        "class Rectangle:\n",
        "    def __init__(self):\n",
        "        self.length = 0\n",
        "        self.width = 0\n",
        "\n",
        "    def set_dimensions(self, length, width):\n",
        "        self.length = length\n",
        "        self.width = width\n",
        "\n",
        "    def area(self):\n",
        "        return self.length * self.width\n"
      ],
      "metadata": {
        "id": "RHomPTGzMq6Z"
      },
      "execution_count": 28,
      "outputs": []
    },
    {
      "cell_type": "code",
      "source": [
        "rect = Rectangle()\n",
        "rect.set_dimensions(5, 3)\n",
        "print(\"Area of rectangle:\", rect.area())\n"
      ],
      "metadata": {
        "colab": {
          "base_uri": "https://localhost:8080/"
        },
        "id": "ND91tx7qNSUd",
        "outputId": "49abe96e-754d-49d2-d4e2-7f808c7d50e3"
      },
      "execution_count": 30,
      "outputs": [
        {
          "output_type": "stream",
          "name": "stdout",
          "text": [
            "Area of rectangle: 15\n"
          ]
        }
      ]
    },
    {
      "cell_type": "markdown",
      "source": [
        "14. Create a class Employee with a method calculate_salary() that computes the salary based on hours worked and hourly rate. Create a derived class Manager that adds a bonus to the salary."
      ],
      "metadata": {
        "id": "eL-mpO88NXl1"
      }
    },
    {
      "cell_type": "code",
      "source": [
        "class Employee:\n",
        "    def __init__(self, hours_worked, hourly_rate):\n",
        "        self.hours_worked = hours_worked\n",
        "        self.hourly_rate = hourly_rate\n",
        "\n",
        "    def calculate_salary(self):\n",
        "        return self.hours_worked * self.hourly_rate\n",
        "\n",
        "class Manager(Employee):\n",
        "    def __init__(self, hours_worked, hourly_rate, bonus):\n",
        "        super().__init__(hours_worked, hourly_rate)\n",
        "        self.bonus = bonus\n",
        "\n",
        "    def calculate_salary(self):\n",
        "        base_salary = super().calculate_salary()\n",
        "        return base_salary + self.bonus\n"
      ],
      "metadata": {
        "id": "mcgAJDSxNUHy"
      },
      "execution_count": 31,
      "outputs": []
    },
    {
      "cell_type": "code",
      "source": [
        "emp = Employee(40, 20)\n",
        "print(\"Employee salary:\", emp.calculate_salary())\n",
        "\n",
        "mgr = Manager(40, 30, 500)\n",
        "print(\"Manager salary:\", mgr.calculate_salary())\n"
      ],
      "metadata": {
        "colab": {
          "base_uri": "https://localhost:8080/"
        },
        "id": "8DlHYaCNNfNA",
        "outputId": "10d91ebf-c941-40cf-c638-6f6e7df29ffd"
      },
      "execution_count": 32,
      "outputs": [
        {
          "output_type": "stream",
          "name": "stdout",
          "text": [
            "Employee salary: 800\n",
            "Manager salary: 1700\n"
          ]
        }
      ]
    },
    {
      "cell_type": "markdown",
      "source": [
        "15. Create a class Product with attributes name, price, and quantity. Implement a method total_price() that calculates the total price of the product."
      ],
      "metadata": {
        "id": "70uOHvUhNjtY"
      }
    },
    {
      "cell_type": "code",
      "source": [
        "class Product:\n",
        "    def __init__(self, name, price, quantity):\n",
        "        self.name = name\n",
        "        self.price = price\n",
        "        self.quantity = quantity\n",
        "\n",
        "    def total_price(self):\n",
        "        return self.price * self.quantity\n"
      ],
      "metadata": {
        "id": "TlbfGY5ZNiv9"
      },
      "execution_count": 33,
      "outputs": []
    },
    {
      "cell_type": "code",
      "source": [
        "item = Product(\"Laptop\", 1000, 3)\n",
        "print(f\"Total price for {item.name}s: ${item.total_price()}\")\n"
      ],
      "metadata": {
        "colab": {
          "base_uri": "https://localhost:8080/"
        },
        "id": "stHP4s--NrXN",
        "outputId": "78e277e0-7e8b-49b0-d9e0-e77afe635e80"
      },
      "execution_count": 35,
      "outputs": [
        {
          "output_type": "stream",
          "name": "stdout",
          "text": [
            "Total price for Laptops: $3000\n"
          ]
        }
      ]
    },
    {
      "cell_type": "markdown",
      "source": [
        "16. Create a class Animal with an abstract method sound(). Create two derived classes Cow and Sheep that implement the sound() method."
      ],
      "metadata": {
        "id": "kr1Y9sBMNvDd"
      }
    },
    {
      "cell_type": "code",
      "source": [
        "from abc import ABC, abstractmethod\n",
        "\n",
        "class Animal(ABC):\n",
        "    @abstractmethod\n",
        "    def sound(self):\n",
        "        pass\n",
        "\n",
        "class Cow(Animal):\n",
        "    def sound(self):\n",
        "        return \"Moo\"\n",
        "\n",
        "class Sheep(Animal):\n",
        "    def sound(self):\n",
        "        return \"Baa\"\n"
      ],
      "metadata": {
        "id": "4JWgZC2WNs6v"
      },
      "execution_count": 36,
      "outputs": []
    },
    {
      "cell_type": "code",
      "source": [
        "cow = Cow()\n",
        "sheep = Sheep()\n",
        "\n",
        "print(\"Cow says:\", cow.sound())\n",
        "print(\"Sheep says:\", sheep.sound())\n"
      ],
      "metadata": {
        "colab": {
          "base_uri": "https://localhost:8080/"
        },
        "id": "h4av0ybaN2Bs",
        "outputId": "d6e60461-2993-4fac-de26-a24160661cde"
      },
      "execution_count": 37,
      "outputs": [
        {
          "output_type": "stream",
          "name": "stdout",
          "text": [
            "Cow says: Moo\n",
            "Sheep says: Baa\n"
          ]
        }
      ]
    },
    {
      "cell_type": "markdown",
      "source": [
        "17. Create a class Book with attributes title, author, and year_published. Add a method get_book_info() that returns a formatted string with the book's details."
      ],
      "metadata": {
        "id": "Swud4oXtN57O"
      }
    },
    {
      "cell_type": "code",
      "source": [
        "class Book:\n",
        "    def __init__(self, title, author, year_published):\n",
        "        self.title = title\n",
        "        self.author = author\n",
        "        self.year_published = year_published\n",
        "\n",
        "    def get_book_info(self):\n",
        "        return f\"'{self.title}' by {self.author}, published in {self.year_published}\"\n"
      ],
      "metadata": {
        "id": "iMrrhOVbN5Eg"
      },
      "execution_count": 38,
      "outputs": []
    },
    {
      "cell_type": "code",
      "source": [
        "book = Book(\"1984\", \"George Orwell\", 1949)\n",
        "print(book.get_book_info())\n",
        "\n"
      ],
      "metadata": {
        "colab": {
          "base_uri": "https://localhost:8080/"
        },
        "id": "wT8V8PK6OAo7",
        "outputId": "f4db0196-2f55-4423-fc25-09ca5c9b9582"
      },
      "execution_count": 39,
      "outputs": [
        {
          "output_type": "stream",
          "name": "stdout",
          "text": [
            "'1984' by George Orwell, published in 1949\n"
          ]
        }
      ]
    },
    {
      "cell_type": "markdown",
      "source": [
        "18. Create a class House with attributes address and price. Create a derived class Mansion that adds an attribute number_of_rooms."
      ],
      "metadata": {
        "id": "ilV1tCqhOEWZ"
      }
    },
    {
      "cell_type": "code",
      "source": [
        "class House:\n",
        "    def __init__(self, address, price):\n",
        "        self.address = address\n",
        "        self.price = price\n",
        "\n",
        "class Mansion(House):\n",
        "    def __init__(self, address, price, number_of_rooms):\n",
        "        super().__init__(address, price)\n",
        "        self.number_of_rooms = number_of_rooms\n"
      ],
      "metadata": {
        "id": "Vxd7QBG4ODgB"
      },
      "execution_count": 40,
      "outputs": []
    },
    {
      "cell_type": "code",
      "source": [
        "m = Mansion(\"123 Luxury Lane\", 2500000, 10)\n",
        "print(f\"Address: {m.address}\")\n",
        "print(f\"Price: ${m.price}\")\n",
        "print(f\"Number of Rooms: {m.number_of_rooms}\")\n"
      ],
      "metadata": {
        "colab": {
          "base_uri": "https://localhost:8080/"
        },
        "id": "QY_wI_3qOL4d",
        "outputId": "9e40de2f-af7f-477b-9611-a025c9e6e2e1"
      },
      "execution_count": 41,
      "outputs": [
        {
          "output_type": "stream",
          "name": "stdout",
          "text": [
            "Address: 123 Luxury Lane\n",
            "Price: $2500000\n",
            "Number of Rooms: 10\n"
          ]
        }
      ]
    },
    {
      "cell_type": "code",
      "source": [],
      "metadata": {
        "id": "WUrRJU1kOPD7"
      },
      "execution_count": null,
      "outputs": []
    }
  ]
}